{
 "cells": [
  {
   "cell_type": "code",
   "execution_count": 19,
   "id": "2d87166e-4b18-49ed-b5fb-ae942d1202a9",
   "metadata": {},
   "outputs": [
    {
     "name": "stdout",
     "output_type": "stream",
     "text": [
      "3\n"
     ]
    }
   ],
   "source": [
    " \n",
    "def count_vowels(text):\n",
    "    vowels = \"aeiou\"\n",
    "    count = 0\n",
    "    for char in text.lower():\n",
    "        if char in vowels:\n",
    "            count += 1\n",
    "    return count\n",
    "\n",
    " \n",
    "text = \"Hello World\"\n",
    "print(count_vowels(text))  "
   ]
  },
  {
   "cell_type": "code",
   "execution_count": 25,
   "id": "4aecc666-eb7c-42f0-b9fb-24de6c6c0fb1",
   "metadata": {},
   "outputs": [
    {
     "name": "stdout",
     "output_type": "stream",
     "text": [
      "8\n"
     ]
    }
   ],
   "source": [
    " def find_max(numbers):\n",
    "    if not numbers:  \n",
    "        return None\n",
    "    max_value = numbers[0]\n",
    "    for num in numbers:\n",
    "        if num > max_value:\n",
    "            max_value = num\n",
    "    return max_value\n",
    "\n",
    " \n",
    "numbers = [3, 5, 2,8, 1]\n",
    "print(find_max(numbers))   \n"
   ]
  },
  {
   "cell_type": "code",
   "execution_count": null,
   "id": "6438b2fb-466b-4994-9a85-885aff775908",
   "metadata": {},
   "outputs": [],
   "source": []
  },
  {
   "cell_type": "code",
   "execution_count": null,
   "id": "d5a9bfa3-468b-4a94-a713-bc395b10afdb",
   "metadata": {},
   "outputs": [],
   "source": []
  },
  {
   "cell_type": "code",
   "execution_count": null,
   "id": "d071af7d-6363-4e7e-aa50-a8533e1781f0",
   "metadata": {},
   "outputs": [],
   "source": []
  },
  {
   "cell_type": "code",
   "execution_count": null,
   "id": "dc3c7239-d79b-40c6-a441-9722fbe960cd",
   "metadata": {},
   "outputs": [],
   "source": []
  }
 ],
 "metadata": {
  "kernelspec": {
   "display_name": "Python 3 (ipykernel)",
   "language": "python",
   "name": "python3"
  },
  "language_info": {
   "codemirror_mode": {
    "name": "ipython",
    "version": 3
   },
   "file_extension": ".py",
   "mimetype": "text/x-python",
   "name": "python",
   "nbconvert_exporter": "python",
   "pygments_lexer": "ipython3",
   "version": "3.12.7"
  }
 },
 "nbformat": 4,
 "nbformat_minor": 5
}
